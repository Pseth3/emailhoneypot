{
 "cells": [
  {
   "cell_type": "code",
   "execution_count": 257,
   "id": "2da563f9",
   "metadata": {},
   "outputs": [],
   "source": [
    "import numpy as np\n",
    "import pandas as pd\n",
    "import seaborn as sns\n",
    "from sklearn.feature_extraction.text import CountVectorizer\n",
    "from sklearn.model_selection import train_test_split\n",
    "from sklearn.naive_bayes import MultinomialNB\n",
    "from sklearn.model_selection import cross_val_score\n",
    "from sklearn.naive_bayes import BernoulliNB\n",
    "from sklearn.svm import SVC\n",
    "import nltk\n",
    "from nltk.corpus import stopwords\n",
    "import string\n",
    "import matplotlib.pyplot as plt\n",
    "from sklearn.metrics import confusion_matrix, classification_report, accuracy_score\n",
    "from sklearn.metrics import ConfusionMatrixDisplay"
   ]
  },
  {
   "cell_type": "code",
   "execution_count": 188,
   "id": "13be8638",
   "metadata": {},
   "outputs": [
    {
     "name": "stderr",
     "output_type": "stream",
     "text": [
      "[nltk_data] Downloading package stopwords to\n",
      "[nltk_data]     C:\\Users\\prate\\AppData\\Roaming\\nltk_data...\n",
      "[nltk_data]   Package stopwords is already up-to-date!\n"
     ]
    },
    {
     "data": {
      "text/plain": [
       "True"
      ]
     },
     "execution_count": 188,
     "metadata": {},
     "output_type": "execute_result"
    }
   ],
   "source": [
    "nltk.download('stopwords')"
   ]
  },
  {
   "cell_type": "code",
   "execution_count": 189,
   "id": "5df40433",
   "metadata": {},
   "outputs": [],
   "source": [
    "Subjectdata = pd.read_csv('emails.csv',usecols = [0,1])\n",
    "Bodydata = pd.read_csv('spamWithBody.csv')"
   ]
  },
  {
   "cell_type": "code",
   "execution_count": 190,
   "id": "19315a92",
   "metadata": {},
   "outputs": [],
   "source": [
    "Subjectdata = Subjectdata[(Subjectdata['spam'] =='1')|(Subjectdata['spam'] =='0')]\n",
    "# .drop(Subjectdata['spam'] !='1'and Subjectdata['spam'] !='0')"
   ]
  },
  {
   "cell_type": "code",
   "execution_count": null,
   "id": "1e025f3e",
   "metadata": {},
   "outputs": [],
   "source": []
  },
  {
   "cell_type": "code",
   "execution_count": 191,
   "id": "a1532cda",
   "metadata": {},
   "outputs": [],
   "source": [
    "mxPot = pd.read_csv('emails/Email_MXPot.csv')\n",
    "news = pd.read_csv('emails/Email_news.csv')\n",
    "shop = pd.read_csv('emails/Email_shop.csv')\n",
    "sport = pd.read_csv('emails/Email_sports.csv')\n",
    "social = pd.read_csv('emails/Emails_social.csv')"
   ]
  },
  {
   "cell_type": "code",
   "execution_count": 192,
   "id": "bc013711",
   "metadata": {},
   "outputs": [
    {
     "name": "stdout",
     "output_type": "stream",
     "text": [
      "33 39 52 51 60\n"
     ]
    }
   ],
   "source": [
    "print(len(mxPot),len(news),len(shop),len(sport),len(social))"
   ]
  },
  {
   "cell_type": "code",
   "execution_count": 193,
   "id": "fbe3e437",
   "metadata": {},
   "outputs": [],
   "source": [
    "mxPot['AllText']=mxPot['Subject']+mxPot['Email Text']\n",
    "news['AllText']=news['Subject']+news['Email Text']\n",
    "shop['AllText']=shop['Subject']+shop['Email Text']\n",
    "sport['AllText']=sport['Subject']+sport['Email Text']\n",
    "social['AllText']=social['Subject']+social['Email Text']"
   ]
  },
  {
   "cell_type": "code",
   "execution_count": 194,
   "id": "f02c7c60",
   "metadata": {},
   "outputs": [],
   "source": [
    "def process_text(text):\n",
    "    # remove punc\n",
    "    nopunc = [c for c in text if c not in string.punctuation]\n",
    "    nopunc = ''.join(nopunc)\n",
    "    # remove stopwords\n",
    "    words = [w for w in nopunc.split() if w.lower() not in stopwords.words('english')]\n",
    "    return str(' '.join(words))"
   ]
  },
  {
   "cell_type": "code",
   "execution_count": 195,
   "id": "2a2a59b5",
   "metadata": {},
   "outputs": [],
   "source": [
    "mxPot['AllText'] = mxPot['AllText'].apply(process_text)\n",
    "news['AllText'] = news['AllText'].apply(process_text)\n",
    "shop['AllText'] = shop['AllText'].apply(process_text)\n",
    "sport['AllText'] = sport['AllText'].apply(process_text)\n",
    "social['AllText'] = social['AllText'].apply(process_text)"
   ]
  },
  {
   "cell_type": "markdown",
   "id": "c0361283",
   "metadata": {},
   "source": [
    "# Classifier based on subject lines and body"
   ]
  },
  {
   "cell_type": "code",
   "execution_count": 196,
   "id": "f70c2353",
   "metadata": {},
   "outputs": [
    {
     "data": {
      "text/html": [
       "<div>\n",
       "<style scoped>\n",
       "    .dataframe tbody tr th:only-of-type {\n",
       "        vertical-align: middle;\n",
       "    }\n",
       "\n",
       "    .dataframe tbody tr th {\n",
       "        vertical-align: top;\n",
       "    }\n",
       "\n",
       "    .dataframe thead th {\n",
       "        text-align: right;\n",
       "    }\n",
       "</style>\n",
       "<table border=\"1\" class=\"dataframe\">\n",
       "  <thead>\n",
       "    <tr style=\"text-align: right;\">\n",
       "      <th></th>\n",
       "      <th>text</th>\n",
       "      <th>spam</th>\n",
       "    </tr>\n",
       "  </thead>\n",
       "  <tbody>\n",
       "    <tr>\n",
       "      <th>0</th>\n",
       "      <td>Subject: naturally irresistible your corporate...</td>\n",
       "      <td>1</td>\n",
       "    </tr>\n",
       "    <tr>\n",
       "      <th>1</th>\n",
       "      <td>Subject: the stock trading gunslinger  fanny i...</td>\n",
       "      <td>1</td>\n",
       "    </tr>\n",
       "    <tr>\n",
       "      <th>2</th>\n",
       "      <td>Subject: unbelievable new homes made easy  im ...</td>\n",
       "      <td>1</td>\n",
       "    </tr>\n",
       "    <tr>\n",
       "      <th>3</th>\n",
       "      <td>Subject: 4 color printing special  request add...</td>\n",
       "      <td>1</td>\n",
       "    </tr>\n",
       "    <tr>\n",
       "      <th>4</th>\n",
       "      <td>Subject: do not have money , get software cds ...</td>\n",
       "      <td>1</td>\n",
       "    </tr>\n",
       "  </tbody>\n",
       "</table>\n",
       "</div>"
      ],
      "text/plain": [
       "                                                text spam\n",
       "0  Subject: naturally irresistible your corporate...    1\n",
       "1  Subject: the stock trading gunslinger  fanny i...    1\n",
       "2  Subject: unbelievable new homes made easy  im ...    1\n",
       "3  Subject: 4 color printing special  request add...    1\n",
       "4  Subject: do not have money , get software cds ...    1"
      ]
     },
     "execution_count": 196,
     "metadata": {},
     "output_type": "execute_result"
    }
   ],
   "source": [
    "Subjectdata.head()"
   ]
  },
  {
   "cell_type": "code",
   "execution_count": 197,
   "id": "53124bfb",
   "metadata": {},
   "outputs": [
    {
     "name": "stdout",
     "output_type": "stream",
     "text": [
      "<class 'pandas.core.frame.DataFrame'>\n",
      "Int64Index: 5726 entries, 0 to 5729\n",
      "Data columns (total 2 columns):\n",
      " #   Column  Non-Null Count  Dtype \n",
      "---  ------  --------------  ----- \n",
      " 0   text    5726 non-null   object\n",
      " 1   spam    5726 non-null   object\n",
      "dtypes: object(2)\n",
      "memory usage: 134.2+ KB\n"
     ]
    }
   ],
   "source": [
    "Subjectdata.info()"
   ]
  },
  {
   "cell_type": "code",
   "execution_count": 198,
   "id": "0b7c2d66",
   "metadata": {},
   "outputs": [
    {
     "data": {
      "text/html": [
       "<div>\n",
       "<style scoped>\n",
       "    .dataframe tbody tr th:only-of-type {\n",
       "        vertical-align: middle;\n",
       "    }\n",
       "\n",
       "    .dataframe tbody tr th {\n",
       "        vertical-align: top;\n",
       "    }\n",
       "\n",
       "    .dataframe thead th {\n",
       "        text-align: right;\n",
       "    }\n",
       "</style>\n",
       "<table border=\"1\" class=\"dataframe\">\n",
       "  <thead>\n",
       "    <tr style=\"text-align: right;\">\n",
       "      <th></th>\n",
       "      <th>text</th>\n",
       "      <th>spam</th>\n",
       "    </tr>\n",
       "  </thead>\n",
       "  <tbody>\n",
       "    <tr>\n",
       "      <th>count</th>\n",
       "      <td>5726</td>\n",
       "      <td>5726</td>\n",
       "    </tr>\n",
       "    <tr>\n",
       "      <th>unique</th>\n",
       "      <td>5693</td>\n",
       "      <td>2</td>\n",
       "    </tr>\n",
       "    <tr>\n",
       "      <th>top</th>\n",
       "      <td>Subject: vp &amp; director count for the research ...</td>\n",
       "      <td>0</td>\n",
       "    </tr>\n",
       "    <tr>\n",
       "      <th>freq</th>\n",
       "      <td>2</td>\n",
       "      <td>4359</td>\n",
       "    </tr>\n",
       "  </tbody>\n",
       "</table>\n",
       "</div>"
      ],
      "text/plain": [
       "                                                     text  spam\n",
       "count                                                5726  5726\n",
       "unique                                               5693     2\n",
       "top     Subject: vp & director count for the research ...     0\n",
       "freq                                                    2  4359"
      ]
     },
     "execution_count": 198,
     "metadata": {},
     "output_type": "execute_result"
    }
   ],
   "source": [
    "Subjectdata.describe()"
   ]
  },
  {
   "cell_type": "code",
   "execution_count": 199,
   "id": "217a2f89",
   "metadata": {},
   "outputs": [
    {
     "name": "stdout",
     "output_type": "stream",
     "text": [
      "Subject: las vegas high rise boom  las vegas is fast becoming a major metropolitan city ! 60 +  new high rise towers are expected to be built on and around the las vegas strip  within the next 3 - 4 years , that ' s 30 , 000 + condominiums !  this boom has just begun ! buy first . . . early phase ,  pre - construction pricing is now available on las vegas high rises including  trump , cosmopolitan , mgm , turnberry , icon , sky , among others .  join the interest list :  http : / / www . verticallv . com  message has been sent to you by realty one highrise . learn more at www . verticallv . comif you  wish to be excluded from future mailings , please reply with the word remove in  the subject line . \n"
     ]
    }
   ],
   "source": [
    "print(Subjectdata['text'][10])"
   ]
  },
  {
   "cell_type": "code",
   "execution_count": 200,
   "id": "153e4885",
   "metadata": {},
   "outputs": [
    {
     "data": {
      "text/plain": [
       "text    0\n",
       "spam    0\n",
       "dtype: int64"
      ]
     },
     "execution_count": 200,
     "metadata": {},
     "output_type": "execute_result"
    }
   ],
   "source": [
    "Subjectdata.isnull().sum()"
   ]
  },
  {
   "cell_type": "code",
   "execution_count": 201,
   "id": "5d87e112",
   "metadata": {},
   "outputs": [],
   "source": [
    "Subjectdata.dropna(inplace=True)\n",
    "Subjectdata.drop_duplicates(inplace=True)"
   ]
  },
  {
   "cell_type": "markdown",
   "id": "97b113d4",
   "metadata": {},
   "source": [
    "## Vectorization and spliting"
   ]
  },
  {
   "cell_type": "code",
   "execution_count": 202,
   "id": "7cc6ce2e",
   "metadata": {},
   "outputs": [],
   "source": [
    "x = Subjectdata['text'] #.apply(process_text)\n",
    "y = Subjectdata['spam']"
   ]
  },
  {
   "cell_type": "code",
   "execution_count": 203,
   "id": "7c12dac7",
   "metadata": {},
   "outputs": [
    {
     "data": {
      "text/plain": [
       "5693"
      ]
     },
     "execution_count": 203,
     "metadata": {},
     "output_type": "execute_result"
    }
   ],
   "source": [
    "len(y)"
   ]
  },
  {
   "cell_type": "code",
   "execution_count": 204,
   "id": "49750472",
   "metadata": {},
   "outputs": [],
   "source": [
    "alldata = mxPot['AllText']\n",
    "alldata = alldata.append(news['AllText'])\n",
    "alldata = alldata.append(shop['AllText'])\n",
    "alldata = alldata.append(sport['AllText'])\n",
    "alldata = alldata.append(social['AllText'])\n",
    "vect = x.append(alldata)"
   ]
  },
  {
   "cell_type": "code",
   "execution_count": 205,
   "id": "361bf37b",
   "metadata": {},
   "outputs": [
    {
     "data": {
      "text/plain": [
       "5928"
      ]
     },
     "execution_count": 205,
     "metadata": {},
     "output_type": "execute_result"
    }
   ],
   "source": [
    "len(vect)"
   ]
  },
  {
   "cell_type": "code",
   "execution_count": 206,
   "id": "551159d0",
   "metadata": {},
   "outputs": [
    {
     "name": "stdout",
     "output_type": "stream",
     "text": [
      "33 39 52 51 60\n",
      "235\n",
      "5930-5693 237\n"
     ]
    }
   ],
   "source": [
    "print(len(mxPot['AllText']),len(news['AllText']),len(shop['AllText']),len(sport['AllText']),len(social['AllText']))\n",
    "print(sum([len(mxPot['AllText']),len(news['AllText']),len(shop['AllText']),len(sport['AllText']),len(social['AllText'])]))\n",
    "print('5930-5693',5930-5693)"
   ]
  },
  {
   "cell_type": "code",
   "execution_count": 207,
   "id": "75416c12",
   "metadata": {},
   "outputs": [],
   "source": [
    "cv=CountVectorizer()\n",
    "vect=cv.fit_transform(vect)"
   ]
  },
  {
   "cell_type": "code",
   "execution_count": 208,
   "id": "c6d55a71",
   "metadata": {},
   "outputs": [],
   "source": [
    "x_vec = vect[:5693]"
   ]
  },
  {
   "cell_type": "code",
   "execution_count": 209,
   "id": "c52fc1b1",
   "metadata": {},
   "outputs": [
    {
     "data": {
      "text/plain": [
       "array([[0, 0, 0, ..., 0, 0, 0],\n",
       "       [0, 0, 0, ..., 0, 0, 0],\n",
       "       [0, 0, 0, ..., 0, 0, 0],\n",
       "       ...,\n",
       "       [4, 0, 0, ..., 0, 0, 0],\n",
       "       [0, 0, 0, ..., 0, 0, 0],\n",
       "       [0, 0, 0, ..., 0, 0, 0]], dtype=int64)"
      ]
     },
     "execution_count": 209,
     "metadata": {},
     "output_type": "execute_result"
    }
   ],
   "source": [
    "x_vec.toarray()"
   ]
  },
  {
   "cell_type": "code",
   "execution_count": 210,
   "id": "38b173d0",
   "metadata": {},
   "outputs": [
    {
     "data": {
      "text/plain": [
       "array(['1', '0'], dtype=object)"
      ]
     },
     "execution_count": 210,
     "metadata": {},
     "output_type": "execute_result"
    }
   ],
   "source": [
    "y.unique()"
   ]
  },
  {
   "cell_type": "code",
   "execution_count": 211,
   "id": "df46f6ae",
   "metadata": {},
   "outputs": [],
   "source": [
    "# Spliting in test and train\n",
    "xtrain,xtest,ytrain,ytest=train_test_split(x_vec,y,test_size=0.2,random_state=1)"
   ]
  },
  {
   "cell_type": "markdown",
   "id": "1b782a55",
   "metadata": {},
   "source": [
    "## Apply Models"
   ]
  },
  {
   "cell_type": "markdown",
   "id": "2617d695",
   "metadata": {},
   "source": [
    "### Multinomial baive Bayes"
   ]
  },
  {
   "cell_type": "code",
   "execution_count": 234,
   "id": "cef556d7",
   "metadata": {},
   "outputs": [],
   "source": [
    "from sklearn.metrics import precision_recall_fscore_support"
   ]
  },
  {
   "cell_type": "code",
   "execution_count": 286,
   "id": "83b3df8c",
   "metadata": {},
   "outputs": [
    {
     "data": {
      "text/plain": [
       "MultinomialNB()"
      ]
     },
     "execution_count": 286,
     "metadata": {},
     "output_type": "execute_result"
    }
   ],
   "source": [
    "gnb=MultinomialNB()\n",
    "gnb.fit(xtrain,ytrain)"
   ]
  },
  {
   "cell_type": "code",
   "execution_count": 287,
   "id": "ae491c33",
   "metadata": {},
   "outputs": [
    {
     "data": {
      "text/plain": [
       "<1139x39548 sparse matrix of type '<class 'numpy.int64'>'\n",
       "\twith 138118 stored elements in Compressed Sparse Row format>"
      ]
     },
     "execution_count": 287,
     "metadata": {},
     "output_type": "execute_result"
    }
   ],
   "source": [
    "xtest"
   ]
  },
  {
   "cell_type": "code",
   "execution_count": 288,
   "id": "52b1e7ab",
   "metadata": {},
   "outputs": [
    {
     "data": {
      "text/plain": [
       "0.9850746268656716"
      ]
     },
     "execution_count": 288,
     "metadata": {},
     "output_type": "execute_result"
    }
   ],
   "source": [
    "gnb.score(xtest,ytest)"
   ]
  },
  {
   "cell_type": "code",
   "execution_count": 289,
   "id": "56ac42e5",
   "metadata": {},
   "outputs": [],
   "source": [
    "gnb.score(xtest,ytest)\n",
    "# gnb.predict(xtest)\n",
    "y_pred_dt = gnb.predict(xtest)"
   ]
  },
  {
   "cell_type": "code",
   "execution_count": 290,
   "id": "576cd46e",
   "metadata": {},
   "outputs": [],
   "source": [
    "cm = confusion_matrix(ytest, y_pred_dt)\n",
    "rep = classification_report(ytest, y_pred_dt)"
   ]
  },
  {
   "cell_type": "code",
   "execution_count": 291,
   "id": "9d21c8cd",
   "metadata": {},
   "outputs": [
    {
     "data": {
      "text/plain": [
       "[0.974, 0.986, 0.98, 569.5]"
      ]
     },
     "execution_count": 291,
     "metadata": {},
     "output_type": "execute_result"
    }
   ],
   "source": [
    "[round(np.mean(x),3) for x in precision_recall_fscore_support(ytest, y_pred_dt)]"
   ]
  },
  {
   "cell_type": "code",
   "execution_count": 292,
   "id": "06a48b52",
   "metadata": {},
   "outputs": [
    {
     "name": "stdout",
     "output_type": "stream",
     "text": [
      "[[851  14]\n",
      " [  3 271]]\n"
     ]
    }
   ],
   "source": [
    "print(cm)"
   ]
  },
  {
   "cell_type": "code",
   "execution_count": 293,
   "id": "a68ecf40",
   "metadata": {},
   "outputs": [
    {
     "name": "stdout",
     "output_type": "stream",
     "text": [
      "              precision    recall  f1-score   support\n",
      "\n",
      "           0       1.00      0.98      0.99       865\n",
      "           1       0.95      0.99      0.97       274\n",
      "\n",
      "    accuracy                           0.99      1139\n",
      "   macro avg       0.97      0.99      0.98      1139\n",
      "weighted avg       0.99      0.99      0.99      1139\n",
      "\n"
     ]
    }
   ],
   "source": [
    "print(rep)\n"
   ]
  },
  {
   "cell_type": "code",
   "execution_count": 294,
   "id": "a8bf5c63",
   "metadata": {},
   "outputs": [
    {
     "data": {
      "image/png": "[encoded data removed]",
      "text/plain": [
       "<Figure size 432x288 with 1 Axes>"
      ]
     },
     "metadata": {
      "needs_background": "light"
     },
     "output_type": "display_data"
    }
   ],
   "source": [
    "fig, ax = plt.subplots()\n",
    "ax.scatter(y_pred_dt, ytest, edgecolors=(0, 0, 1))\n",
    "ax.plot([ytest.min(), ytest.max()], [ytest.min(), ytest.max()], 'r--', lw=3)\n",
    "ax.set_xlabel('Predicted')\n",
    "ax.set_ylabel('Actual')\n",
    "plt.show()"
   ]
  },
  {
   "cell_type": "markdown",
   "id": "ba07a34d",
   "metadata": {},
   "source": [
    "### Bernoulli Naive Bayes"
   ]
  },
  {
   "cell_type": "code",
   "execution_count": 307,
   "id": "cf7bab74",
   "metadata": {},
   "outputs": [
    {
     "data": {
      "text/plain": [
       "BernoulliNB()"
      ]
     },
     "execution_count": 307,
     "metadata": {},
     "output_type": "execute_result"
    }
   ],
   "source": [
    "bnb=BernoulliNB()\n",
    "bnb.fit(xtrain,ytrain)"
   ]
  },
  {
   "cell_type": "code",
   "execution_count": 308,
   "id": "b88a7bea",
   "metadata": {},
   "outputs": [
    {
     "data": {
      "text/plain": [
       "0.9824407374890255"
      ]
     },
     "execution_count": 308,
     "metadata": {},
     "output_type": "execute_result"
    }
   ],
   "source": [
    "bnb.score(xtest,ytest)\n",
    "# y_pred_dt = bnb.predict(xtest)"
   ]
  },
  {
   "cell_type": "code",
   "execution_count": 297,
   "id": "59c01e4c",
   "metadata": {},
   "outputs": [],
   "source": [
    "cm = confusion_matrix(ytest, y_pred_dt)\n",
    "rep = classification_report(ytest, y_pred_dt)"
   ]
  },
  {
   "cell_type": "code",
   "execution_count": 298,
   "id": "afc508a1",
   "metadata": {},
   "outputs": [
    {
     "name": "stdout",
     "output_type": "stream",
     "text": [
      "[[855  10]\n",
      " [ 10 264]]\n"
     ]
    }
   ],
   "source": [
    "print(cm)"
   ]
  },
  {
   "cell_type": "code",
   "execution_count": 299,
   "id": "985889a2",
   "metadata": {},
   "outputs": [
    {
     "name": "stdout",
     "output_type": "stream",
     "text": [
      "              precision    recall  f1-score   support\n",
      "\n",
      "           0       0.99      0.99      0.99       865\n",
      "           1       0.96      0.96      0.96       274\n",
      "\n",
      "    accuracy                           0.98      1139\n",
      "   macro avg       0.98      0.98      0.98      1139\n",
      "weighted avg       0.98      0.98      0.98      1139\n",
      "\n"
     ]
    }
   ],
   "source": [
    "print(rep)"
   ]
  },
  {
   "cell_type": "code",
   "execution_count": 300,
   "id": "ff830dc3",
   "metadata": {},
   "outputs": [
    {
     "data": {
      "text/plain": [
       "[0.976, 0.976, 0.976, 569.5]"
      ]
     },
     "execution_count": 300,
     "metadata": {},
     "output_type": "execute_result"
    }
   ],
   "source": [
    "[round(np.mean(x),3) for x in precision_recall_fscore_support(ytest, y_pred_dt)]"
   ]
  },
  {
   "cell_type": "markdown",
   "id": "ec757522",
   "metadata": {},
   "source": [
    "### SVM"
   ]
  },
  {
   "cell_type": "code",
   "execution_count": 301,
   "id": "f2e0c6e2",
   "metadata": {},
   "outputs": [
    {
     "data": {
      "text/plain": [
       "SVC(random_state=0)"
      ]
     },
     "execution_count": 301,
     "metadata": {},
     "output_type": "execute_result"
    }
   ],
   "source": [
    "model = SVC(random_state = 0)\n",
    "model.fit(xtrain,ytrain)"
   ]
  },
  {
   "cell_type": "code",
   "execution_count": 302,
   "id": "8b81212d",
   "metadata": {},
   "outputs": [
    {
     "data": {
      "text/plain": [
       "0.9756258234519104"
      ]
     },
     "execution_count": 302,
     "metadata": {},
     "output_type": "execute_result"
    }
   ],
   "source": [
    "y_pred_dt = model.predict(xtest)\n",
    "model.score(xtrain,ytrain)"
   ]
  },
  {
   "cell_type": "code",
   "execution_count": 303,
   "id": "5c3306d2",
   "metadata": {},
   "outputs": [],
   "source": [
    "cm = confusion_matrix(ytest, y_pred_dt)\n",
    "rep = classification_report(ytest, y_pred_dt)"
   ]
  },
  {
   "cell_type": "code",
   "execution_count": 304,
   "id": "a4da1227",
   "metadata": {},
   "outputs": [
    {
     "name": "stdout",
     "output_type": "stream",
     "text": [
      "[[861   4]\n",
      " [ 44 230]]\n"
     ]
    }
   ],
   "source": [
    "print(cm)"
   ]
  },
  {
   "cell_type": "code",
   "execution_count": 305,
   "id": "a504683e",
   "metadata": {},
   "outputs": [
    {
     "name": "stdout",
     "output_type": "stream",
     "text": [
      "              precision    recall  f1-score   support\n",
      "\n",
      "           0       0.95      1.00      0.97       865\n",
      "           1       0.98      0.84      0.91       274\n",
      "\n",
      "    accuracy                           0.96      1139\n",
      "   macro avg       0.97      0.92      0.94      1139\n",
      "weighted avg       0.96      0.96      0.96      1139\n",
      "\n"
     ]
    }
   ],
   "source": [
    "print(rep)"
   ]
  },
  {
   "cell_type": "code",
   "execution_count": 306,
   "id": "1db7593c",
   "metadata": {},
   "outputs": [
    {
     "data": {
      "text/plain": [
       "[0.967, 0.917, 0.939, 569.5]"
      ]
     },
     "execution_count": 306,
     "metadata": {},
     "output_type": "execute_result"
    }
   ],
   "source": [
    "[round(np.mean(x),3) for x in precision_recall_fscore_support(ytest, y_pred_dt)]"
   ]
  },
  {
   "cell_type": "markdown",
   "id": "2f0d267d",
   "metadata": {},
   "source": [
    "## Use data for our dataset"
   ]
  },
  {
   "cell_type": "code",
   "execution_count": 82,
   "id": "1b30249b",
   "metadata": {},
   "outputs": [],
   "source": [
    "# mxPot = pd.read_csv('emails/Email_MXPot.csv')\n",
    "# news = pd.read_csv('emails/Email_news.csv')\n",
    "# shop = pd.read_csv('emails/Email_shop.csv')\n",
    "# sport = pd.read_csv('emails/Email_sports.csv')\n",
    "# social = pd.read_csv('emails/Emails_social.csv')"
   ]
  },
  {
   "cell_type": "code",
   "execution_count": 83,
   "id": "2eb01f8d",
   "metadata": {},
   "outputs": [],
   "source": [
    "# mxPot['AllText']=mxPot['Subject']+mxPot['Email Text']\n",
    "# news['AllText']=news['Subject']+news['Email Text']\n",
    "# shop['AllText']=shop['Subject']+shop['Email Text']\n",
    "# sport['AllText']=sport['Subject']+sport['Email Text']\n",
    "# social['AllText']=social['Subject']+social['Email Text']"
   ]
  },
  {
   "cell_type": "code",
   "execution_count": 177,
   "id": "418eaecf",
   "metadata": {},
   "outputs": [
    {
     "data": {
      "text/plain": [
       "array(['1', '1', '1', '1', '1', '1', '1', '1', '1', '1', '1', '1', '1',\n",
       "       '1', '1', '1', '1', '1', '1', '1', '1', '1', '1', '1', '1', '1',\n",
       "       '1', '1', '1', '1', '1', '1', '1', '0', '1', '1', '1', '1', '1',\n",
       "       '1', '1', '1', '1', '1', '1', '1', '1', '1', '1', '1', '1', '1',\n",
       "       '1', '1', '1', '1', '1', '1', '1', '1', '1', '1', '1', '1', '1',\n",
       "       '1', '1', '1', '1', '1', '1', '1', '1', '1', '1', '1', '1', '1',\n",
       "       '1', '1', '1', '1', '1', '1', '1', '1', '1', '1', '1', '1', '1',\n",
       "       '1', '1', '1', '1', '1', '1', '1', '1', '1', '1', '1', '1', '1',\n",
       "       '1', '1', '1', '1', '1', '1', '1', '1', '1', '1', '1', '1', '1',\n",
       "       '1', '1', '1', '1', '1', '1', '1', '1', '1', '1', '1', '1', '1',\n",
       "       '1', '1', '1', '1', '1', '1', '1', '1', '1', '1', '1', '1', '1',\n",
       "       '1', '1', '1', '1', '1', '1', '1', '1', '1', '1', '1', '1', '1',\n",
       "       '1', '1', '1', '1', '1', '1', '1', '1', '1', '1', '1', '1', '1',\n",
       "       '1', '1', '1', '1', '1', '1', '1', '1', '1', '1', '1', '1', '1',\n",
       "       '1', '1', '1', '1', '1', '1', '1', '1', '1', '1', '1', '1', '1',\n",
       "       '1', '1', '1', '1', '1', '1', '1', '0', '1', '1', '1', '1', '1',\n",
       "       '1', '1', '1', '1', '1', '1', '1', '1', '1', '1', '1', '1', '1',\n",
       "       '1', '1', '1', '1', '1', '1', '1', '1', '1', '1', '1', '1'],\n",
       "      dtype='<U1')"
      ]
     },
     "execution_count": 177,
     "metadata": {},
     "output_type": "execute_result"
    }
   ],
   "source": [
    "gnb.predict(vect)[5695:]"
   ]
  },
  {
   "cell_type": "code",
   "execution_count": 178,
   "id": "d6609711",
   "metadata": {},
   "outputs": [
    {
     "data": {
      "text/plain": [
       "<AxesSubplot:>"
      ]
     },
     "execution_count": 178,
     "metadata": {},
     "output_type": "execute_result"
    },
    {
     "data": {
      "image/png": "[encoded data removed]",
      "text/plain": [
       "<Figure size 432x288 with 1 Axes>"
      ]
     },
     "metadata": {
      "needs_background": "light"
     },
     "output_type": "display_data"
    }
   ],
   "source": [
    "sns.lineplot(x=range(len(gnb.predict(vect)[5695:])), y= gnb.predict(vect)[5695:])"
   ]
  },
  {
   "cell_type": "code",
   "execution_count": 180,
   "id": "7fcebae1",
   "metadata": {},
   "outputs": [],
   "source": [
    "final_predictions = pd.DataFrame({'Message':alldata,\n",
    "                                  'Prediction':gnb.predict(vect)[5693:]})"
   ]
  },
  {
   "cell_type": "code",
   "execution_count": 185,
   "id": "f78b12cc",
   "metadata": {},
   "outputs": [
    {
     "data": {
      "text/plain": [
       "array(['1', '0'], dtype=object)"
      ]
     },
     "execution_count": 185,
     "metadata": {},
     "output_type": "execute_result"
    }
   ],
   "source": [
    "final_predictions.Prediction.unique()"
   ]
  },
  {
   "cell_type": "code",
   "execution_count": 22,
   "id": "b4e51970",
   "metadata": {},
   "outputs": [
    {
     "data": {
      "text/plain": [
       "<5728x37305 sparse matrix of type '<class 'numpy.int64'>'\n",
       "\twith 705662 stored elements in Compressed Sparse Row format>"
      ]
     },
     "execution_count": 22,
     "metadata": {},
     "output_type": "execute_result"
    }
   ],
   "source": [
    "x1"
   ]
  },
  {
   "cell_type": "markdown",
   "id": "421d1e72",
   "metadata": {},
   "source": [
    "# Classifier based on Message Body"
   ]
  },
  {
   "cell_type": "code",
   "execution_count": null,
   "id": "77b44fee",
   "metadata": {},
   "outputs": [],
   "source": [
    "Bodydata.head()"
   ]
  },
  {
   "cell_type": "code",
   "execution_count": null,
   "id": "1050b248",
   "metadata": {},
   "outputs": [],
   "source": [
    "print(Bodydata['Message'][10])"
   ]
  }
 ],
 "metadata": {
  "kernelspec": {
   "display_name": "Python 3",
   "language": "python",
   "name": "python3"
  },
  "language_info": {
   "codemirror_mode": {
    "name": "ipython",
    "version": 3
   },
   "file_extension": ".py",
   "mimetype": "text/x-python",
   "name": "python",
   "nbconvert_exporter": "python",
   "pygments_lexer": "ipython3",
   "version": "3.8.8"
  }
 },
 "nbformat": 4,
 "nbformat_minor": 5
}

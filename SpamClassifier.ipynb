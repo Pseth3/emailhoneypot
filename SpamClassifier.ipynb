{
 "cells": [
  {
   "cell_type": "code",
   "execution_count": 310,
   "id": "2da563f9",
   "metadata": {},
   "outputs": [],
   "source": [
    "import numpy as np\n",
    "import pandas as pd\n",
    "import seaborn as sns\n",
    "from sklearn.feature_extraction.text import CountVectorizer\n",
    "from sklearn.model_selection import train_test_split\n",
    "from sklearn.naive_bayes import MultinomialNB\n",
    "from sklearn.model_selection import cross_val_score\n",
    "from sklearn.naive_bayes import BernoulliNB\n",
    "from sklearn.svm import SVC\n",
    "import nltk\n",
    "from nltk.corpus import stopwords\n",
    "import string\n",
    "import matplotlib.pyplot as plt\n",
    "from sklearn.metrics import confusion_matrix, classification_report, accuracy_score\n",
    "from sklearn.metrics import ConfusionMatrixDisplay\n",
    "from IPython import display"
   ]
  },
  {
   "cell_type": "code",
   "execution_count": 188,
   "id": "4332d142",
   "metadata": {},
   "outputs": [
    {
     "name": "stderr",
     "output_type": "stream",
     "text": [
      "[nltk_data] Downloading package stopwords to\n",
      "[nltk_data]     C:\\Users\\prate\\AppData\\Roaming\\nltk_data...\n",
      "[nltk_data]   Package stopwords is already up-to-date!\n"
     ]
    },
    {
     "data": {
      "text/plain": [
       "True"
      ]
     },
     "execution_count": 188,
     "metadata": {},
     "output_type": "execute_result"
    }
   ],
   "source": [
    "nltk.download('stopwords')"
   ]
  },
  {
   "cell_type": "code",
   "execution_count": 189,
   "id": "5df40433",
   "metadata": {},
   "outputs": [],
   "source": [
    "Subjectdata = pd.read_csv('emails.csv',usecols = [0,1])\n",
    "Bodydata = pd.read_csv('spamWithBody.csv')"
   ]
  },
  {
   "cell_type": "code",
   "execution_count": 190,
   "id": "9933d7d5",
   "metadata": {},
   "outputs": [],
   "source": [
    "Subjectdata = Subjectdata[(Subjectdata['spam'] =='1')|(Subjectdata['spam'] =='0')]\n",
    "# .drop(Subjectdata['spam'] !='1'and Subjectdata['spam'] !='0')"
   ]
  },
  {
   "cell_type": "code",
   "execution_count": null,
   "id": "a7db4fdb",
   "metadata": {},
   "outputs": [],
   "source": []
  },
  {
   "cell_type": "code",
   "execution_count": 191,
   "id": "7ecbbc87",
   "metadata": {},
   "outputs": [],
   "source": [
    "mxPot = pd.read_csv('emails/Email_MXPot.csv')\n",
    "news = pd.read_csv('emails/Email_news.csv')\n",
    "shop = pd.read_csv('emails/Email_shop.csv')\n",
    "sport = pd.read_csv('emails/Email_sports.csv')\n",
    "social = pd.read_csv('emails/Emails_social.csv')"
   ]
  },
  {
   "cell_type": "code",
   "execution_count": 192,
   "id": "704fa12e",
   "metadata": {},
   "outputs": [
    {
     "name": "stdout",
     "output_type": "stream",
     "text": [
      "33 39 52 51 60\n"
     ]
    }
   ],
   "source": [
    "print(len(mxPot),len(news),len(shop),len(sport),len(social))"
   ]
  },
  {
   "cell_type": "code",
   "execution_count": 193,
   "id": "8fb0891c",
   "metadata": {},
   "outputs": [],
   "source": [
    "mxPot['AllText']=mxPot['Subject']+mxPot['Email Text']\n",
    "news['AllText']=news['Subject']+news['Email Text']\n",
    "shop['AllText']=shop['Subject']+shop['Email Text']\n",
    "sport['AllText']=sport['Subject']+sport['Email Text']\n",
    "social['AllText']=social['Subject']+social['Email Text']"
   ]
  },
  {
   "cell_type": "code",
   "execution_count": 194,
   "id": "dab4bea2",
   "metadata": {},
   "outputs": [],
   "source": [
    "def process_text(text):\n",
    "    # remove punc\n",
    "    nopunc = [c for c in text if c not in string.punctuation]\n",
    "    nopunc = ''.join(nopunc)\n",
    "    # remove stopwords\n",
    "    words = [w for w in nopunc.split() if w.lower() not in stopwords.words('english')]\n",
    "    return str(' '.join(words))"
   ]
  },
  {
   "cell_type": "code",
   "execution_count": 195,
   "id": "21a316e4",
   "metadata": {},
   "outputs": [],
   "source": [
    "mxPot['AllText'] = mxPot['AllText'].apply(process_text)\n",
    "news['AllText'] = news['AllText'].apply(process_text)\n",
    "shop['AllText'] = shop['AllText'].apply(process_text)\n",
    "sport['AllText'] = sport['AllText'].apply(process_text)\n",
    "social['AllText'] = social['AllText'].apply(process_text)"
   ]
  },
  {
   "cell_type": "markdown",
   "id": "c0361283",
   "metadata": {},
   "source": [
    "# Classifier based on subject lines and body"
   ]
  },
  {
   "cell_type": "code",
   "execution_count": 196,
   "id": "f70c2353",
   "metadata": {},
   "outputs": [
    {
     "data": {
      "text/html": [
       "<div>\n",
       "<style scoped>\n",
       "    .dataframe tbody tr th:only-of-type {\n",
       "        vertical-align: middle;\n",
       "    }\n",
       "\n",
       "    .dataframe tbody tr th {\n",
       "        vertical-align: top;\n",
       "    }\n",
       "\n",
       "    .dataframe thead th {\n",
       "        text-align: right;\n",
       "    }\n",
       "</style>\n",
       "<table border=\"1\" class=\"dataframe\">\n",
       "  <thead>\n",
       "    <tr style=\"text-align: right;\">\n",
       "      <th></th>\n",
       "      <th>text</th>\n",
       "      <th>spam</th>\n",
       "    </tr>\n",
       "  </thead>\n",
       "  <tbody>\n",
       "    <tr>\n",
       "      <th>0</th>\n",
       "      <td>Subject: naturally irresistible your corporate...</td>\n",
       "      <td>1</td>\n",
       "    </tr>\n",
       "    <tr>\n",
       "      <th>1</th>\n",
       "      <td>Subject: the stock trading gunslinger  fanny i...</td>\n",
       "      <td>1</td>\n",
       "    </tr>\n",
       "    <tr>\n",
       "      <th>2</th>\n",
       "      <td>Subject: unbelievable new homes made easy  im ...</td>\n",
       "      <td>1</td>\n",
       "    </tr>\n",
       "    <tr>\n",
       "      <th>3</th>\n",
       "      <td>Subject: 4 color printing special  request add...</td>\n",
       "      <td>1</td>\n",
       "    </tr>\n",
       "    <tr>\n",
       "      <th>4</th>\n",
       "      <td>Subject: do not have money , get software cds ...</td>\n",
       "      <td>1</td>\n",
       "    </tr>\n",
       "  </tbody>\n",
       "</table>\n",
       "</div>"
      ],
      "text/plain": [
       "                                                text spam\n",
       "0  Subject: naturally irresistible your corporate...    1\n",
       "1  Subject: the stock trading gunslinger  fanny i...    1\n",
       "2  Subject: unbelievable new homes made easy  im ...    1\n",
       "3  Subject: 4 color printing special  request add...    1\n",
       "4  Subject: do not have money , get software cds ...    1"
      ]
     },
     "execution_count": 196,
     "metadata": {},
     "output_type": "execute_result"
    }
   ],
   "source": [
    "Subjectdata.head()"
   ]
  },
  {
   "cell_type": "code",
   "execution_count": 197,
   "id": "53124bfb",
   "metadata": {},
   "outputs": [
    {
     "name": "stdout",
     "output_type": "stream",
     "text": [
      "<class 'pandas.core.frame.DataFrame'>\n",
      "Int64Index: 5726 entries, 0 to 5729\n",
      "Data columns (total 2 columns):\n",
      " #   Column  Non-Null Count  Dtype \n",
      "---  ------  --------------  ----- \n",
      " 0   text    5726 non-null   object\n",
      " 1   spam    5726 non-null   object\n",
      "dtypes: object(2)\n",
      "memory usage: 134.2+ KB\n"
     ]
    }
   ],
   "source": [
    "Subjectdata.info()"
   ]
  },
  {
   "cell_type": "code",
   "execution_count": 198,
   "id": "0b7c2d66",
   "metadata": {},
   "outputs": [
    {
     "data": {
      "text/html": [
       "<div>\n",
       "<style scoped>\n",
       "    .dataframe tbody tr th:only-of-type {\n",
       "        vertical-align: middle;\n",
       "    }\n",
       "\n",
       "    .dataframe tbody tr th {\n",
       "        vertical-align: top;\n",
       "    }\n",
       "\n",
       "    .dataframe thead th {\n",
       "        text-align: right;\n",
       "    }\n",
       "</style>\n",
       "<table border=\"1\" class=\"dataframe\">\n",
       "  <thead>\n",
       "    <tr style=\"text-align: right;\">\n",
       "      <th></th>\n",
       "      <th>text</th>\n",
       "      <th>spam</th>\n",
       "    </tr>\n",
       "  </thead>\n",
       "  <tbody>\n",
       "    <tr>\n",
       "      <th>count</th>\n",
       "      <td>5726</td>\n",
       "      <td>5726</td>\n",
       "    </tr>\n",
       "    <tr>\n",
       "      <th>unique</th>\n",
       "      <td>5693</td>\n",
       "      <td>2</td>\n",
       "    </tr>\n",
       "    <tr>\n",
       "      <th>top</th>\n",
       "      <td>Subject: vp &amp; director count for the research ...</td>\n",
       "      <td>0</td>\n",
       "    </tr>\n",
       "    <tr>\n",
       "      <th>freq</th>\n",
       "      <td>2</td>\n",
       "      <td>4359</td>\n",
       "    </tr>\n",
       "  </tbody>\n",
       "</table>\n",
       "</div>"
      ],
      "text/plain": [
       "                                                     text  spam\n",
       "count                                                5726  5726\n",
       "unique                                               5693     2\n",
       "top     Subject: vp & director count for the research ...     0\n",
       "freq                                                    2  4359"
      ]
     },
     "execution_count": 198,
     "metadata": {},
     "output_type": "execute_result"
    }
   ],
   "source": [
    "Subjectdata.describe()"
   ]
  },
  {
   "cell_type": "code",
   "execution_count": 199,
   "id": "217a2f89",
   "metadata": {},
   "outputs": [
    {
     "name": "stdout",
     "output_type": "stream",
     "text": [
      "Subject: las vegas high rise boom  las vegas is fast becoming a major metropolitan city ! 60 +  new high rise towers are expected to be built on and around the las vegas strip  within the next 3 - 4 years , that ' s 30 , 000 + condominiums !  this boom has just begun ! buy first . . . early phase ,  pre - construction pricing is now available on las vegas high rises including  trump , cosmopolitan , mgm , turnberry , icon , sky , among others .  join the interest list :  http : / / www . verticallv . com  message has been sent to you by realty one highrise . learn more at www . verticallv . comif you  wish to be excluded from future mailings , please reply with the word remove in  the subject line . \n"
     ]
    }
   ],
   "source": [
    "print(Subjectdata['text'][10])"
   ]
  },
  {
   "cell_type": "code",
   "execution_count": 200,
   "id": "153e4885",
   "metadata": {},
   "outputs": [
    {
     "data": {
      "text/plain": [
       "text    0\n",
       "spam    0\n",
       "dtype: int64"
      ]
     },
     "execution_count": 200,
     "metadata": {},
     "output_type": "execute_result"
    }
   ],
   "source": [
    "Subjectdata.isnull().sum()"
   ]
  },
  {
   "cell_type": "code",
   "execution_count": 201,
   "id": "5d87e112",
   "metadata": {},
   "outputs": [],
   "source": [
    "Subjectdata.dropna(inplace=True)\n",
    "Subjectdata.drop_duplicates(inplace=True)"
   ]
  },
  {
   "cell_type": "markdown",
   "id": "97b113d4",
   "metadata": {},
   "source": [
    "## Vectorization and spliting"
   ]
  },
  {
   "cell_type": "code",
   "execution_count": 202,
   "id": "7cc6ce2e",
   "metadata": {},
   "outputs": [],
   "source": [
    "x = Subjectdata['text'] #.apply(process_text)\n",
    "y = Subjectdata['spam']"
   ]
  },
  {
   "cell_type": "code",
   "execution_count": 203,
   "id": "dfcc916b",
   "metadata": {},
   "outputs": [
    {
     "data": {
      "text/plain": [
       "5693"
      ]
     },
     "execution_count": 203,
     "metadata": {},
     "output_type": "execute_result"
    }
   ],
   "source": [
    "len(y)"
   ]
  },
  {
   "cell_type": "code",
   "execution_count": 204,
   "id": "2b484d9c",
   "metadata": {},
   "outputs": [],
   "source": [
    "alldata = mxPot['AllText']\n",
    "alldata = alldata.append(news['AllText'])\n",
    "alldata = alldata.append(shop['AllText'])\n",
    "alldata = alldata.append(sport['AllText'])\n",
    "alldata = alldata.append(social['AllText'])\n",
    "vect = x.append(alldata)"
   ]
  },
  {
   "cell_type": "code",
   "execution_count": 205,
   "id": "8f09a4d5",
   "metadata": {},
   "outputs": [
    {
     "data": {
      "text/plain": [
       "5928"
      ]
     },
     "execution_count": 205,
     "metadata": {},
     "output_type": "execute_result"
    }
   ],
   "source": [
    "len(vect)"
   ]
  },
  {
   "cell_type": "code",
   "execution_count": 206,
   "id": "158b7c41",
   "metadata": {},
   "outputs": [
    {
     "name": "stdout",
     "output_type": "stream",
     "text": [
      "33 39 52 51 60\n",
      "235\n",
      "5930-5693 237\n"
     ]
    }
   ],
   "source": [
    "print(len(mxPot['AllText']),len(news['AllText']),len(shop['AllText']),len(sport['AllText']),len(social['AllText']))\n",
    "print(sum([len(mxPot['AllText']),len(news['AllText']),len(shop['AllText']),len(sport['AllText']),len(social['AllText'])]))\n",
    "print('5930-5693',5930-5693)"
   ]
  },
  {
   "cell_type": "code",
   "execution_count": 207,
   "id": "75416c12",
   "metadata": {},
   "outputs": [],
   "source": [
    "cv=CountVectorizer()\n",
    "vect=cv.fit_transform(vect)"
   ]
  },
  {
   "cell_type": "code",
   "execution_count": 208,
   "id": "62d95f89",
   "metadata": {},
   "outputs": [],
   "source": [
    "x_vec = vect[:5693]"
   ]
  },
  {
   "cell_type": "code",
   "execution_count": 209,
   "id": "c52fc1b1",
   "metadata": {},
   "outputs": [
    {
     "data": {
      "text/plain": [
       "array([[0, 0, 0, ..., 0, 0, 0],\n",
       "       [0, 0, 0, ..., 0, 0, 0],\n",
       "       [0, 0, 0, ..., 0, 0, 0],\n",
       "       ...,\n",
       "       [4, 0, 0, ..., 0, 0, 0],\n",
       "       [0, 0, 0, ..., 0, 0, 0],\n",
       "       [0, 0, 0, ..., 0, 0, 0]], dtype=int64)"
      ]
     },
     "execution_count": 209,
     "metadata": {},
     "output_type": "execute_result"
    }
   ],
   "source": [
    "x_vec.toarray()"
   ]
  },
  {
   "cell_type": "code",
   "execution_count": 210,
   "id": "fd81f17d",
   "metadata": {},
   "outputs": [
    {
     "data": {
      "text/plain": [
       "array(['1', '0'], dtype=object)"
      ]
     },
     "execution_count": 210,
     "metadata": {},
     "output_type": "execute_result"
    }
   ],
   "source": [
    "y.unique()"
   ]
  },
  {
   "cell_type": "code",
   "execution_count": 211,
   "id": "df46f6ae",
   "metadata": {},
   "outputs": [],
   "source": [
    "# Spliting in test and train\n",
    "xtrain,xtest,ytrain,ytest=train_test_split(x_vec,y,test_size=0.2,random_state=1)"
   ]
  },
  {
   "cell_type": "markdown",
   "id": "1b782a55",
   "metadata": {},
   "source": [
    "## Apply Models"
   ]
  },
  {
   "cell_type": "markdown",
   "id": "2617d695",
   "metadata": {},
   "source": [
    "### Multinomial baive Bayes"
   ]
  },
  {
   "cell_type": "code",
   "execution_count": 387,
   "id": "f1eb9574",
   "metadata": {},
   "outputs": [],
   "source": [
    "from sklearn.metrics import precision_recall_fscore_support"
   ]
  },
  {
   "cell_type": "code",
   "execution_count": 388,
   "id": "83b3df8c",
   "metadata": {},
   "outputs": [
    {
     "data": {
      "text/plain": [
       "MultinomialNB()"
      ]
     },
     "execution_count": 388,
     "metadata": {},
     "output_type": "execute_result"
    }
   ],
   "source": [
    "gnb=MultinomialNB()\n",
    "gnb.fit(xtrain,ytrain)"
   ]
  },
  {
   "cell_type": "code",
   "execution_count": 389,
   "id": "33c4476d",
   "metadata": {},
   "outputs": [
    {
     "data": {
      "text/plain": [
       "<1139x39548 sparse matrix of type '<class 'numpy.int64'>'\n",
       "\twith 138118 stored elements in Compressed Sparse Row format>"
      ]
     },
     "execution_count": 389,
     "metadata": {},
     "output_type": "execute_result"
    }
   ],
   "source": [
    "xtest"
   ]
  },
  {
   "cell_type": "code",
   "execution_count": 390,
   "id": "4853e0e5",
   "metadata": {},
   "outputs": [],
   "source": [
    "target = [ '0', '1']"
   ]
  },
  {
   "cell_type": "code",
   "execution_count": 391,
   "id": "7253e6ac",
   "metadata": {},
   "outputs": [
    {
     "data": {
      "text/plain": [
       "0.9850746268656716"
      ]
     },
     "execution_count": 391,
     "metadata": {},
     "output_type": "execute_result"
    }
   ],
   "source": [
    "gnb.score(xtest,ytest)"
   ]
  },
  {
   "cell_type": "code",
   "execution_count": 392,
   "id": "56ac42e5",
   "metadata": {},
   "outputs": [],
   "source": [
    "gnb.score(xtest,ytest)\n",
    "# gnb.predict(xtest)\n",
    "y_pred_dt = gnb.predict(xtest)"
   ]
  },
  {
   "cell_type": "code",
   "execution_count": 393,
   "id": "8fc4bd14",
   "metadata": {},
   "outputs": [],
   "source": [
    "cm = confusion_matrix(ytest, y_pred_dt)\n",
    "# rep = classification_report(ytest, y_pred_dt)\n",
    "rep = classification_report(ytest, y_pred_dt, target_names=target, digits=4,  output_dict=True)"
   ]
  },
  {
   "cell_type": "code",
   "execution_count": 394,
   "id": "97c46431",
   "metadata": {},
   "outputs": [
    {
     "data": {
      "text/plain": [
       "[0.974, 0.986, 0.98, 569.5]"
      ]
     },
     "execution_count": 394,
     "metadata": {},
     "output_type": "execute_result"
    }
   ],
   "source": [
    "[round(np.mean(x),3) for x in precision_recall_fscore_support(ytest, y_pred_dt)]"
   ]
  },
  {
   "cell_type": "code",
   "execution_count": 395,
   "id": "c1877c0d",
   "metadata": {},
   "outputs": [
    {
     "data": {
      "text/html": [
       "<div>\n",
       "<style scoped>\n",
       "    .dataframe tbody tr th:only-of-type {\n",
       "        vertical-align: middle;\n",
       "    }\n",
       "\n",
       "    .dataframe tbody tr th {\n",
       "        vertical-align: top;\n",
       "    }\n",
       "\n",
       "    .dataframe thead th {\n",
       "        text-align: right;\n",
       "    }\n",
       "</style>\n",
       "<table border=\"1\" class=\"dataframe\">\n",
       "  <thead>\n",
       "    <tr style=\"text-align: right;\">\n",
       "      <th></th>\n",
       "      <th>0</th>\n",
       "      <th>1</th>\n",
       "      <th>accuracy</th>\n",
       "      <th>macro avg</th>\n",
       "      <th>weighted avg</th>\n",
       "    </tr>\n",
       "  </thead>\n",
       "  <tbody>\n",
       "    <tr>\n",
       "      <th>precision</th>\n",
       "      <td>0.996487</td>\n",
       "      <td>0.950877</td>\n",
       "      <td>0.985075</td>\n",
       "      <td>0.973682</td>\n",
       "      <td>0.985515</td>\n",
       "    </tr>\n",
       "    <tr>\n",
       "      <th>recall</th>\n",
       "      <td>0.983815</td>\n",
       "      <td>0.989051</td>\n",
       "      <td>0.985075</td>\n",
       "      <td>0.986433</td>\n",
       "      <td>0.985075</td>\n",
       "    </tr>\n",
       "    <tr>\n",
       "      <th>f1-score</th>\n",
       "      <td>0.990111</td>\n",
       "      <td>0.969589</td>\n",
       "      <td>0.985075</td>\n",
       "      <td>0.979850</td>\n",
       "      <td>0.985174</td>\n",
       "    </tr>\n",
       "    <tr>\n",
       "      <th>support</th>\n",
       "      <td>865.000000</td>\n",
       "      <td>274.000000</td>\n",
       "      <td>0.985075</td>\n",
       "      <td>1139.000000</td>\n",
       "      <td>1139.000000</td>\n",
       "    </tr>\n",
       "  </tbody>\n",
       "</table>\n",
       "</div>"
      ],
      "text/plain": [
       "                    0           1  accuracy    macro avg  weighted avg\n",
       "precision    0.996487    0.950877  0.985075     0.973682      0.985515\n",
       "recall       0.983815    0.989051  0.985075     0.986433      0.985075\n",
       "f1-score     0.990111    0.969589  0.985075     0.979850      0.985174\n",
       "support    865.000000  274.000000  0.985075  1139.000000   1139.000000"
      ]
     },
     "metadata": {},
     "output_type": "display_data"
    },
    {
     "data": {
      "image/png": "[encoded data removed]",
      "text/plain": [
       "<Figure size 432x288 with 1 Axes>"
      ]
     },
     "metadata": {
      "needs_background": "light"
     },
     "output_type": "display_data"
    }
   ],
   "source": [
    "display.display(pd.DataFrame(rep))\n",
    "df = pd.DataFrame(rep)\n",
    "ax = df.iloc[:3, :3].T.plot(kind='bar')\n",
    "for p in ax.patches:\n",
    "    ax.annotate(str(p.get_height())[:4], (p.get_x() * 1.005, p.get_height() * 1.005), rotation=60)\n",
    "ax.legend(bbox_to_anchor=(1.0, 1.0))\n",
    "plt.savefig(\"MBB.png\", format=\"PNG\")\n",
    "plt.show()"
   ]
  },
  {
   "cell_type": "code",
   "execution_count": 396,
   "id": "27992ac3",
   "metadata": {},
   "outputs": [
    {
     "name": "stdout",
     "output_type": "stream",
     "text": [
      "{'0': {'precision': 0.9964871194379391, 'recall': 0.9838150289017341, 'f1-score': 0.9901105293775451, 'support': 865}, '1': {'precision': 0.9508771929824561, 'recall': 0.9890510948905109, 'f1-score': 0.9695885509838997, 'support': 274}, 'accuracy': 0.9850746268656716, 'macro avg': {'precision': 0.9736821562101976, 'recall': 0.9864330618961226, 'f1-score': 0.9798495401807223, 'support': 1139}, 'weighted avg': {'precision': 0.9855151090351276, 'recall': 0.9850746268656716, 'f1-score': 0.9851737233372827, 'support': 1139}}\n"
     ]
    }
   ],
   "source": [
    "print(rep)\n"
   ]
  },
  {
   "cell_type": "code",
   "execution_count": 397,
   "id": "e9680dce",
   "metadata": {},
   "outputs": [
    {
     "data": {
      "image/png": "[encoded data removed]",
      "text/plain": [
       "<Figure size 432x288 with 1 Axes>"
      ]
     },
     "metadata": {
      "needs_background": "light"
     },
     "output_type": "display_data"
    }
   ],
   "source": [
    "fig, ax = plt.subplots()\n",
    "ax.scatter(y_pred_dt, ytest, edgecolors=(0, 0, 1))\n",
    "ax.plot([ytest.min(), ytest.max()], [ytest.min(), ytest.max()], 'r--', lw=3)\n",
    "ax.set_xlabel('Predicted')\n",
    "ax.set_ylabel('Actual')\n",
    "plt.show()"
   ]
  },
  {
   "cell_type": "markdown",
   "id": "ba07a34d",
   "metadata": {},
   "source": [
    "### Bernoulli Naive Bayes"
   ]
  },
  {
   "cell_type": "code",
   "execution_count": 398,
   "id": "cf7bab74",
   "metadata": {},
   "outputs": [
    {
     "data": {
      "text/plain": [
       "BernoulliNB()"
      ]
     },
     "execution_count": 398,
     "metadata": {},
     "output_type": "execute_result"
    }
   ],
   "source": [
    "bnb=BernoulliNB()\n",
    "bnb.fit(xtrain,ytrain)"
   ]
  },
  {
   "cell_type": "code",
   "execution_count": 399,
   "id": "7c26054a",
   "metadata": {},
   "outputs": [],
   "source": [
    "target = [ '0', '1']"
   ]
  },
  {
   "cell_type": "code",
   "execution_count": 400,
   "id": "b88a7bea",
   "metadata": {},
   "outputs": [
    {
     "data": {
      "text/plain": [
       "0.9824407374890255"
      ]
     },
     "execution_count": 400,
     "metadata": {},
     "output_type": "execute_result"
    }
   ],
   "source": [
    "bnb.score(xtest,ytest)\n",
    "# y_pred_dt = bnb.predict(xtest)"
   ]
  },
  {
   "cell_type": "code",
   "execution_count": 401,
   "id": "a1b0d8bc",
   "metadata": {},
   "outputs": [],
   "source": [
    "cm = confusion_matrix(ytest, y_pred_dt)\n",
    "# rep = classification_report(ytest, y_pred_dt)\n",
    "rep = classification_report(ytest, y_pred_dt, target_names=target, digits=4,  output_dict=True)"
   ]
  },
  {
   "cell_type": "code",
   "execution_count": 402,
   "id": "c424d3e4",
   "metadata": {},
   "outputs": [
    {
     "data": {
      "text/html": [
       "<div>\n",
       "<style scoped>\n",
       "    .dataframe tbody tr th:only-of-type {\n",
       "        vertical-align: middle;\n",
       "    }\n",
       "\n",
       "    .dataframe tbody tr th {\n",
       "        vertical-align: top;\n",
       "    }\n",
       "\n",
       "    .dataframe thead th {\n",
       "        text-align: right;\n",
       "    }\n",
       "</style>\n",
       "<table border=\"1\" class=\"dataframe\">\n",
       "  <thead>\n",
       "    <tr style=\"text-align: right;\">\n",
       "      <th></th>\n",
       "      <th>0</th>\n",
       "      <th>1</th>\n",
       "      <th>accuracy</th>\n",
       "      <th>macro avg</th>\n",
       "      <th>weighted avg</th>\n",
       "    </tr>\n",
       "  </thead>\n",
       "  <tbody>\n",
       "    <tr>\n",
       "      <th>precision</th>\n",
       "      <td>0.996487</td>\n",
       "      <td>0.950877</td>\n",
       "      <td>0.985075</td>\n",
       "      <td>0.973682</td>\n",
       "      <td>0.985515</td>\n",
       "    </tr>\n",
       "    <tr>\n",
       "      <th>recall</th>\n",
       "      <td>0.983815</td>\n",
       "      <td>0.989051</td>\n",
       "      <td>0.985075</td>\n",
       "      <td>0.986433</td>\n",
       "      <td>0.985075</td>\n",
       "    </tr>\n",
       "    <tr>\n",
       "      <th>f1-score</th>\n",
       "      <td>0.990111</td>\n",
       "      <td>0.969589</td>\n",
       "      <td>0.985075</td>\n",
       "      <td>0.979850</td>\n",
       "      <td>0.985174</td>\n",
       "    </tr>\n",
       "    <tr>\n",
       "      <th>support</th>\n",
       "      <td>865.000000</td>\n",
       "      <td>274.000000</td>\n",
       "      <td>0.985075</td>\n",
       "      <td>1139.000000</td>\n",
       "      <td>1139.000000</td>\n",
       "    </tr>\n",
       "  </tbody>\n",
       "</table>\n",
       "</div>"
      ],
      "text/plain": [
       "                    0           1  accuracy    macro avg  weighted avg\n",
       "precision    0.996487    0.950877  0.985075     0.973682      0.985515\n",
       "recall       0.983815    0.989051  0.985075     0.986433      0.985075\n",
       "f1-score     0.990111    0.969589  0.985075     0.979850      0.985174\n",
       "support    865.000000  274.000000  0.985075  1139.000000   1139.000000"
      ]
     },
     "metadata": {},
     "output_type": "display_data"
    },
    {
     "data": {
      "image/png": "[encoded data removed]",
      "text/plain": [
       "<Figure size 432x288 with 1 Axes>"
      ]
     },
     "metadata": {
      "needs_background": "light"
     },
     "output_type": "display_data"
    }
   ],
   "source": [
    "display.display(pd.DataFrame(rep))\n",
    "df = pd.DataFrame(rep)\n",
    "ax = df.iloc[:3, :3].T.plot(kind='bar')\n",
    "for p in ax.patches:\n",
    "    ax.annotate(str(p.get_height())[:4], (p.get_x() * 1.005, p.get_height() * 1.005),rotation=60)\n",
    "ax.legend(bbox_to_anchor=(1.0, 1.0))\n",
    "plt.savefig(\"BNB.png\", format=\"PNG\")\n",
    "plt.show()"
   ]
  },
  {
   "cell_type": "code",
   "execution_count": 403,
   "id": "4bccf4a2",
   "metadata": {},
   "outputs": [
    {
     "name": "stdout",
     "output_type": "stream",
     "text": [
      "{'0': {'precision': 0.9964871194379391, 'recall': 0.9838150289017341, 'f1-score': 0.9901105293775451, 'support': 865}, '1': {'precision': 0.9508771929824561, 'recall': 0.9890510948905109, 'f1-score': 0.9695885509838997, 'support': 274}, 'accuracy': 0.9850746268656716, 'macro avg': {'precision': 0.9736821562101976, 'recall': 0.9864330618961226, 'f1-score': 0.9798495401807223, 'support': 1139}, 'weighted avg': {'precision': 0.9855151090351276, 'recall': 0.9850746268656716, 'f1-score': 0.9851737233372827, 'support': 1139}}\n"
     ]
    }
   ],
   "source": [
    "print(rep)"
   ]
  },
  {
   "cell_type": "code",
   "execution_count": 404,
   "id": "e2b4ba7d",
   "metadata": {},
   "outputs": [
    {
     "data": {
      "text/plain": [
       "[0.974, 0.986, 0.98, 569.5]"
      ]
     },
     "execution_count": 404,
     "metadata": {},
     "output_type": "execute_result"
    }
   ],
   "source": [
    "[round(np.mean(x),3) for x in precision_recall_fscore_support(ytest, y_pred_dt)]"
   ]
  },
  {
   "cell_type": "markdown",
   "id": "ec757522",
   "metadata": {},
   "source": [
    "### SVM"
   ]
  },
  {
   "cell_type": "code",
   "execution_count": 405,
   "id": "f2e0c6e2",
   "metadata": {},
   "outputs": [
    {
     "data": {
      "text/plain": [
       "SVC(random_state=0)"
      ]
     },
     "execution_count": 405,
     "metadata": {},
     "output_type": "execute_result"
    }
   ],
   "source": [
    "model = SVC(random_state = 0)\n",
    "model.fit(xtrain,ytrain)"
   ]
  },
  {
   "cell_type": "code",
   "execution_count": 406,
   "id": "8b81212d",
   "metadata": {},
   "outputs": [
    {
     "data": {
      "text/plain": [
       "0.9756258234519104"
      ]
     },
     "execution_count": 406,
     "metadata": {},
     "output_type": "execute_result"
    }
   ],
   "source": [
    "y_pred_dt = model.predict(xtest)\n",
    "model.score(xtrain,ytrain)"
   ]
  },
  {
   "cell_type": "code",
   "execution_count": 407,
   "id": "3fc77f13",
   "metadata": {},
   "outputs": [],
   "source": [
    "target = [ '0', '1']"
   ]
  },
  {
   "cell_type": "code",
   "execution_count": 408,
   "id": "cb52207e",
   "metadata": {},
   "outputs": [],
   "source": [
    "cm = confusion_matrix(ytest, y_pred_dt)\n",
    "# rep = classification_report(ytest, y_pred_dt)\n",
    "rep = classification_report(ytest, y_pred_dt, target_names=target, digits=4,  output_dict=True)\n"
   ]
  },
  {
   "cell_type": "code",
   "execution_count": 409,
   "id": "739e675d",
   "metadata": {},
   "outputs": [
    {
     "data": {
      "text/html": [
       "<div>\n",
       "<style scoped>\n",
       "    .dataframe tbody tr th:only-of-type {\n",
       "        vertical-align: middle;\n",
       "    }\n",
       "\n",
       "    .dataframe tbody tr th {\n",
       "        vertical-align: top;\n",
       "    }\n",
       "\n",
       "    .dataframe thead th {\n",
       "        text-align: right;\n",
       "    }\n",
       "</style>\n",
       "<table border=\"1\" class=\"dataframe\">\n",
       "  <thead>\n",
       "    <tr style=\"text-align: right;\">\n",
       "      <th></th>\n",
       "      <th>0</th>\n",
       "      <th>1</th>\n",
       "      <th>accuracy</th>\n",
       "      <th>macro avg</th>\n",
       "      <th>weighted avg</th>\n",
       "    </tr>\n",
       "  </thead>\n",
       "  <tbody>\n",
       "    <tr>\n",
       "      <th>precision</th>\n",
       "      <td>0.951381</td>\n",
       "      <td>0.982906</td>\n",
       "      <td>0.957858</td>\n",
       "      <td>0.967144</td>\n",
       "      <td>0.958965</td>\n",
       "    </tr>\n",
       "    <tr>\n",
       "      <th>recall</th>\n",
       "      <td>0.995376</td>\n",
       "      <td>0.839416</td>\n",
       "      <td>0.957858</td>\n",
       "      <td>0.917396</td>\n",
       "      <td>0.957858</td>\n",
       "    </tr>\n",
       "    <tr>\n",
       "      <th>f1-score</th>\n",
       "      <td>0.972881</td>\n",
       "      <td>0.905512</td>\n",
       "      <td>0.957858</td>\n",
       "      <td>0.939197</td>\n",
       "      <td>0.956675</td>\n",
       "    </tr>\n",
       "    <tr>\n",
       "      <th>support</th>\n",
       "      <td>865.000000</td>\n",
       "      <td>274.000000</td>\n",
       "      <td>0.957858</td>\n",
       "      <td>1139.000000</td>\n",
       "      <td>1139.000000</td>\n",
       "    </tr>\n",
       "  </tbody>\n",
       "</table>\n",
       "</div>"
      ],
      "text/plain": [
       "                    0           1  accuracy    macro avg  weighted avg\n",
       "precision    0.951381    0.982906  0.957858     0.967144      0.958965\n",
       "recall       0.995376    0.839416  0.957858     0.917396      0.957858\n",
       "f1-score     0.972881    0.905512  0.957858     0.939197      0.956675\n",
       "support    865.000000  274.000000  0.957858  1139.000000   1139.000000"
      ]
     },
     "metadata": {},
     "output_type": "display_data"
    },
    {
     "data": {
      "image/png": "[encoded data removed]",
      "text/plain": [
       "<Figure size 432x288 with 1 Axes>"
      ]
     },
     "metadata": {
      "needs_background": "light"
     },
     "output_type": "display_data"
    }
   ],
   "source": [
    "display.display(pd.DataFrame(rep))\n",
    "df = pd.DataFrame(rep)\n",
    "ax = df.iloc[:3, :3].T.plot(kind='bar')\n",
    "for p in ax.patches:\n",
    "    ax.annotate(str(p.get_height())[:4], (p.get_x() * 1.005, p.get_height() * 1.005), rotation=60)\n",
    "ax.legend(bbox_to_anchor=(1.0, 1.0))\n",
    "plt.savefig(\"SVM.png\", format=\"PNG\")\n",
    "plt.show()"
   ]
  },
  {
   "cell_type": "code",
   "execution_count": 410,
   "id": "f48bf060",
   "metadata": {},
   "outputs": [
    {
     "data": {
      "text/plain": [
       "[0.967, 0.917, 0.939, 569.5]"
      ]
     },
     "execution_count": 410,
     "metadata": {},
     "output_type": "execute_result"
    }
   ],
   "source": [
    "[round(np.mean(x),3) for x in precision_recall_fscore_support(ytest, y_pred_dt)]"
   ]
  },
  {
   "cell_type": "markdown",
   "id": "2f0d267d",
   "metadata": {},
   "source": [
    "## Use data for our dataset"
   ]
  },
  {
   "cell_type": "code",
   "execution_count": 82,
   "id": "1b30249b",
   "metadata": {},
   "outputs": [],
   "source": [
    "# mxPot = pd.read_csv('emails/Email_MXPot.csv')\n",
    "# news = pd.read_csv('emails/Email_news.csv')\n",
    "# shop = pd.read_csv('emails/Email_shop.csv')\n",
    "# sport = pd.read_csv('emails/Email_sports.csv')\n",
    "# social = pd.read_csv('emails/Emails_social.csv')"
   ]
  },
  {
   "cell_type": "code",
   "execution_count": 83,
   "id": "2eb01f8d",
   "metadata": {},
   "outputs": [],
   "source": [
    "# mxPot['AllText']=mxPot['Subject']+mxPot['Email Text']\n",
    "# news['AllText']=news['Subject']+news['Email Text']\n",
    "# shop['AllText']=shop['Subject']+shop['Email Text']\n",
    "# sport['AllText']=sport['Subject']+sport['Email Text']\n",
    "# social['AllText']=social['Subject']+social['Email Text']"
   ]
  },
  {
   "cell_type": "code",
   "execution_count": 177,
   "id": "7ac70c74",
   "metadata": {},
   "outputs": [
    {
     "data": {
      "text/plain": [
       "array(['1', '1', '1', '1', '1', '1', '1', '1', '1', '1', '1', '1', '1',\n",
       "       '1', '1', '1', '1', '1', '1', '1', '1', '1', '1', '1', '1', '1',\n",
       "       '1', '1', '1', '1', '1', '1', '1', '0', '1', '1', '1', '1', '1',\n",
       "       '1', '1', '1', '1', '1', '1', '1', '1', '1', '1', '1', '1', '1',\n",
       "       '1', '1', '1', '1', '1', '1', '1', '1', '1', '1', '1', '1', '1',\n",
       "       '1', '1', '1', '1', '1', '1', '1', '1', '1', '1', '1', '1', '1',\n",
       "       '1', '1', '1', '1', '1', '1', '1', '1', '1', '1', '1', '1', '1',\n",
       "       '1', '1', '1', '1', '1', '1', '1', '1', '1', '1', '1', '1', '1',\n",
       "       '1', '1', '1', '1', '1', '1', '1', '1', '1', '1', '1', '1', '1',\n",
       "       '1', '1', '1', '1', '1', '1', '1', '1', '1', '1', '1', '1', '1',\n",
       "       '1', '1', '1', '1', '1', '1', '1', '1', '1', '1', '1', '1', '1',\n",
       "       '1', '1', '1', '1', '1', '1', '1', '1', '1', '1', '1', '1', '1',\n",
       "       '1', '1', '1', '1', '1', '1', '1', '1', '1', '1', '1', '1', '1',\n",
       "       '1', '1', '1', '1', '1', '1', '1', '1', '1', '1', '1', '1', '1',\n",
       "       '1', '1', '1', '1', '1', '1', '1', '1', '1', '1', '1', '1', '1',\n",
       "       '1', '1', '1', '1', '1', '1', '1', '0', '1', '1', '1', '1', '1',\n",
       "       '1', '1', '1', '1', '1', '1', '1', '1', '1', '1', '1', '1', '1',\n",
       "       '1', '1', '1', '1', '1', '1', '1', '1', '1', '1', '1', '1'],\n",
       "      dtype='<U1')"
      ]
     },
     "execution_count": 177,
     "metadata": {},
     "output_type": "execute_result"
    }
   ],
   "source": [
    "gnb.predict(vect)[5695:]"
   ]
  },
  {
   "cell_type": "code",
   "execution_count": 178,
   "id": "7c8dd9ee",
   "metadata": {},
   "outputs": [
    {
     "data": {
      "text/plain": [
       "<AxesSubplot:>"
      ]
     },
     "execution_count": 178,
     "metadata": {},
     "output_type": "execute_result"
    },
    {
     "data": {
      "image/png": "[encoded data removed]",
      "text/plain": [
       "<Figure size 432x288 with 1 Axes>"
      ]
     },
     "metadata": {
      "needs_background": "light"
     },
     "output_type": "display_data"
    }
   ],
   "source": [
    "sns.lineplot(x=range(len(gnb.predict(vect)[5695:])), y= gnb.predict(vect)[5695:])"
   ]
  },
  {
   "cell_type": "code",
   "execution_count": 180,
   "id": "5401b1d1",
   "metadata": {},
   "outputs": [],
   "source": [
    "final_predictions = pd.DataFrame({'Message':alldata,\n",
    "                                  'Prediction':gnb.predict(vect)[5693:]})"
   ]
  },
  {
   "cell_type": "code",
   "execution_count": 185,
   "id": "cca61f09",
   "metadata": {},
   "outputs": [
    {
     "data": {
      "text/plain": [
       "array(['1', '0'], dtype=object)"
      ]
     },
     "execution_count": 185,
     "metadata": {},
     "output_type": "execute_result"
    }
   ],
   "source": [
    "final_predictions.Prediction.unique()"
   ]
  },
  {
   "cell_type": "code",
   "execution_count": 22,
   "id": "f65d3fc0",
   "metadata": {},
   "outputs": [
    {
     "data": {
      "text/plain": [
       "<5728x37305 sparse matrix of type '<class 'numpy.int64'>'\n",
       "\twith 705662 stored elements in Compressed Sparse Row format>"
      ]
     },
     "execution_count": 22,
     "metadata": {},
     "output_type": "execute_result"
    }
   ],
   "source": [
    "x1"
   ]
  },
  {
   "cell_type": "markdown",
   "id": "421d1e72",
   "metadata": {},
   "source": [
    "# Classifier based on Message Body"
   ]
  },
  {
   "cell_type": "code",
   "execution_count": null,
   "id": "77b44fee",
   "metadata": {},
   "outputs": [],
   "source": [
    "Bodydata.head()"
   ]
  },
  {
   "cell_type": "code",
   "execution_count": null,
   "id": "1050b248",
   "metadata": {},
   "outputs": [],
   "source": [
    "print(Bodydata['Message'][10])"
   ]
  }
 ],
 "metadata": {
  "kernelspec": {
   "display_name": "Python 3",
   "language": "python",
   "name": "python3"
  },
  "language_info": {
   "codemirror_mode": {
    "name": "ipython",
    "version": 3
   },
   "file_extension": ".py",
   "mimetype": "text/x-python",
   "name": "python",
   "nbconvert_exporter": "python",
   "pygments_lexer": "ipython3",
   "version": "3.8.8"
  }
 },
 "nbformat": 4,
 "nbformat_minor": 5
}
